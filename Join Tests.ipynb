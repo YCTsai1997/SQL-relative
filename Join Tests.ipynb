{
 "cells": [
  {
   "cell_type": "markdown",
   "metadata": {},
   "source": [
    "# Join tests"
   ]
  },
  {
   "cell_type": "code",
   "execution_count": 4,
   "metadata": {},
   "outputs": [],
   "source": [
    "stmt = \"\"\"\n",
    "create table lgu_brilinta.Yi_join_test_0526_1(\n",
    "    patient_id string, \n",
    "    Dx_category string)\n",
    "\"\"\"\n",
    "result = spark.sql(stmt)"
   ]
  },
  {
   "cell_type": "code",
   "execution_count": 5,
   "metadata": {},
   "outputs": [],
   "source": [
    "stmt = \"\"\"\n",
    "insert into lgu_brilinta.Yi_join_test_0526_1 VALUES \n",
    "('1060410258','STROKE/TIA'),\n",
    "('1201221043','NSTE ACS'),\n",
    "('1727742162','STE ACS'),\n",
    "('30856364','PAD'),\n",
    "('79402997','STROKE/TIA'),\n",
    "('322826144','NSTE ACS'),\n",
    "('1315395864','STE ACS'),\n",
    "('964121801','PAD'),\n",
    "('3453671741','STROKE/TIA'),\n",
    "('589333269','NSTE ACS')\n",
    "\"\"\"\n",
    "result = spark.sql(stmt)"
   ]
  },
  {
   "cell_type": "code",
   "execution_count": 6,
   "metadata": {},
   "outputs": [],
   "source": [
    "stmt = \"\"\"\n",
    "create table lgu_brilinta.Yi_join_test_0526_2(\n",
    "    patient_id string, \n",
    "    Dx_category string)\n",
    "\"\"\"\n",
    "result = spark.sql(stmt)"
   ]
  },
  {
   "cell_type": "code",
   "execution_count": 7,
   "metadata": {},
   "outputs": [],
   "source": [
    "stmt = \"\"\"\n",
    "insert into lgu_brilinta.Yi_join_test_0526_2 VALUES \n",
    "('322826144','NSTE ACS'),\n",
    "('1315395864','STE ACS'),\n",
    "('964121801','NSTE ACS'),\n",
    "('3453671741','STE ACS'),\n",
    "('589333269','PAD'),\n",
    "('4490124244','PAD'),\n",
    "('3986111631','STROKE/TIA'),\n",
    "('3511498978','NSTE ACS')\n",
    "\"\"\"\n",
    "result = spark.sql(stmt)"
   ]
  },
  {
   "cell_type": "code",
   "execution_count": 8,
   "metadata": {},
   "outputs": [
    {
     "name": "stdout",
     "output_type": "stream",
     "text": [
      "+----------+-----------+\n",
      "|patient_id|Dx_category|\n",
      "+----------+-----------+\n",
      "|1060410258| STROKE/TIA|\n",
      "|1201221043|   NSTE ACS|\n",
      "|1727742162|    STE ACS|\n",
      "|  30856364|        PAD|\n",
      "|  79402997| STROKE/TIA|\n",
      "| 322826144|   NSTE ACS|\n",
      "|1315395864|    STE ACS|\n",
      "| 964121801|        PAD|\n",
      "|3453671741| STROKE/TIA|\n",
      "| 589333269|   NSTE ACS|\n",
      "+----------+-----------+"
     ]
    }
   ],
   "source": [
    "stmt = \"\"\"\n",
    "select *\n",
    "from  lgu_brilinta.Yi_join_test_0526_1\n",
    "\"\"\"\n",
    "result = spark.sql(stmt).show()"
   ]
  },
  {
   "cell_type": "code",
   "execution_count": 9,
   "metadata": {},
   "outputs": [
    {
     "name": "stdout",
     "output_type": "stream",
     "text": [
      "+----------+-----------+\n",
      "|patient_id|Dx_category|\n",
      "+----------+-----------+\n",
      "| 322826144|   NSTE ACS|\n",
      "|1315395864|    STE ACS|\n",
      "| 964121801|   NSTE ACS|\n",
      "|3453671741|    STE ACS|\n",
      "| 589333269|        PAD|\n",
      "|4490124244|        PAD|\n",
      "|3986111631| STROKE/TIA|\n",
      "|3511498978|   NSTE ACS|\n",
      "+----------+-----------+"
     ]
    }
   ],
   "source": [
    "stmt = \"\"\"\n",
    "select *\n",
    "from  lgu_brilinta.Yi_join_test_0526_2\n",
    "\"\"\"\n",
    "result = spark.sql(stmt).show()"
   ]
  },
  {
   "cell_type": "markdown",
   "metadata": {},
   "source": [
    "Left Semi join - A Left Semi Join only returns the records from the left-hand dataset. Get records from left dataset that only appear in right dataset."
   ]
  },
  {
   "cell_type": "code",
   "execution_count": 10,
   "metadata": {},
   "outputs": [
    {
     "name": "stdout",
     "output_type": "stream",
     "text": [
      "+----------+-----------+\n",
      "|patient_id|Dx_category|\n",
      "+----------+-----------+\n",
      "| 322826144|   NSTE ACS|\n",
      "|1315395864|    STE ACS|\n",
      "| 964121801|        PAD|\n",
      "|3453671741| STROKE/TIA|\n",
      "| 589333269|   NSTE ACS|\n",
      "+----------+-----------+"
     ]
    }
   ],
   "source": [
    "stmt = \"\"\"\n",
    "select a.*\n",
    "from lgu_brilinta.Yi_join_test_0526_1 as a \n",
    "left semi join lgu_brilinta.Yi_join_test_0526_2 as b on a.patient_id=b.patient_id\n",
    "\"\"\"\n",
    "result = spark.sql(stmt).show()"
   ]
  },
  {
   "cell_type": "markdown",
   "metadata": {},
   "source": [
    "Left anti join - Select only rows from the left side that match no rows on the right side."
   ]
  },
  {
   "cell_type": "code",
   "execution_count": 12,
   "metadata": {},
   "outputs": [
    {
     "name": "stdout",
     "output_type": "stream",
     "text": [
      "+----------+-----------+\n",
      "|patient_id|Dx_category|\n",
      "+----------+-----------+\n",
      "|1060410258| STROKE/TIA|\n",
      "|1201221043|   NSTE ACS|\n",
      "|1727742162|    STE ACS|\n",
      "|  30856364|        PAD|\n",
      "|  79402997| STROKE/TIA|\n",
      "+----------+-----------+"
     ]
    }
   ],
   "source": [
    "stmt = \"\"\"\n",
    "select a.*\n",
    "from lgu_brilinta.Yi_join_test_0526_1 as a \n",
    "left anti join lgu_brilinta.Yi_join_test_0526_2 as b on a.patient_id=b.patient_id\n",
    "\"\"\"\n",
    "result = spark.sql(stmt).show()"
   ]
  }
 ],
 "metadata": {
  "kernelspec": {
   "display_name": "PySpark3",
   "language": "",
   "name": "pyspark3kernel"
  },
  "language_info": {
   "codemirror_mode": {
    "name": "python",
    "version": 3
   },
   "mimetype": "text/x-python",
   "name": "pyspark3",
   "pygments_lexer": "python3"
  }
 },
 "nbformat": 4,
 "nbformat_minor": 4
}
